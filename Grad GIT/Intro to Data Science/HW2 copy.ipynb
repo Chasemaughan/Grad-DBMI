{
 "cells": [
  {
   "cell_type": "markdown",
   "metadata": {},
   "source": [
    "# Introduction to Data Science – Homework 2\n",
    "*COMP 5360 / MATH 4100, University of Utah, http://datasciencecourse.net/*\n",
    "\n",
    "Due: Friday, January 26, 11:59pm.\n",
    "\n",
    "This homework is designed to reinforce the skills we covered in the last week including various descriptive statistics. Make sure to go through the lectures again in case you have any trouble.\n",
    "\n",
    "**Note: Please provide comments describing what your code was doing at each stage**.\n",
    "\n",
    "**Note: Please fill the cell that says `Your Interpretation` or `Your description` in the below code**.\n"
   ]
  },
  {
   "cell_type": "markdown",
   "metadata": {},
   "source": [
    "## Your Data\n",
    "Fill out the following information: \n",
    "\n",
    "*First Name:*  Chase Maughan \n",
    "*Last Name:*   \n",
    "*E-mail:*   u0962361@umail.utah.edu\n",
    "*UID:* u0962361 "
   ]
  },
  {
   "cell_type": "markdown",
   "metadata": {},
   "source": [
    "## Part 1: Vector data\n",
    "\n",
    "We first will work with a vector of monthly average temperatures for Snowbird, UT, which we downloaded from [NOAA](https://www.ncdc.noaa.gov/). The data is included in this repository in the file `snowbird.csv`.\n",
    "\n",
    "The data is stored in the CSV format, which is a simple textfile with 'Comma Separated Values'.\n",
    "To load the data, we use the read_csv function from the pandas library. The following code reads the file and stores it in a vector:"
   ]
  },
  {
   "cell_type": "code",
   "execution_count": 8,
   "metadata": {},
   "outputs": [
    {
     "name": "stdout",
     "output_type": "stream",
     "text": [
      "       DATE  PRCP  TAVG\n",
      "0   2010-01  7.39  27.5\n",
      "1   2010-02  2.99  23.8\n",
      "2   2010-03  5.88  29.0\n",
      "3   2010-04  9.69  33.0\n",
      "4   2010-05  6.30  37.2\n",
      "..      ...   ...   ...\n",
      "75  2016-04  7.19  38.0\n",
      "76  2016-05  5.40  42.8\n",
      "77  2016-06  1.20  59.2\n",
      "78  2016-07  0.00  62.9\n",
      "79  2016-08  1.89  60.4\n",
      "\n",
      "[80 rows x 3 columns]\n",
      "[27.5, 23.8, 29.0, 33.0, 37.2, 51.5, 61.7, 58.0, 54.1, 42.4, 27.2, 27.7, 23.7, 22.0, 28.5, 30.4, 38.6, 50.1, 60.4, 62.2, 53.8, 40.7, 28.9, 26.0, 27.4, 23.4, 34.1, 38.4, 44.8, 56.3, 62.3, 62.8, 53.8, 41.0, 35.3, 22.5, 23.7, 21.8, 31.2, 32.3, 44.0, 56.6, 62.9, 60.9, 50.4, 37.7, 33.9, 22.6, 27.2, 26.0, 31.1, 34.9, 45.6, 52.4, 63.5, 56.0, 53.8, 44.8, 30.8, 27.1, 31.5, 31.4, 36.6, 36.0, 42.6, 59.6, 58.4, 59.9, 55.2, 45.2, 27.6, 22.8, 25.1, 30.4, 31.7, 38.0, 42.8, 59.2, 62.9, 60.4]\n",
      "[7.39, 2.99, 5.88, 9.69, 6.3, 2.2, 1.0, 3.09, 1.09, 7.8, 9.7, 12.89, 3.4, 7.2, 8.09, 13.79, 9.99, 2.2, 0.6, 2.3, 2.29, 5.2, 4.69, 1.9, 6.6, 5.6, 5.4, 5.69, 2.6, 0.0, 2.09, 0.59, 2.2, 3.2, 6.19, 7.7, 4.4, 2.8, 3.3, 5.3, 3.8, 0.0, 4.29, 2.2, 4.39, 4.7, 2.0, 4.9, 4.1, 7.1, 6.5, 5.0, 2.9, 1.2, 1.0, 5.0, 4.8, 1.5, 6.09, 7.8, 2.59, 2.3, 2.59, 4.09, 7.09, 1.0, 1.8, 3.1, 4.0, 3.59, 3.9, 6.7, 8.29, 3.19, 5.59, 7.19, 5.4, 1.2, 0.0, 1.89]\n"
     ]
    }
   ],
   "source": [
    "# import the csv library\n",
    "import csv\n",
    "# import the math library we'll use later\n",
    "import math\n",
    "# import the pandas library\n",
    "import pandas as pd\n",
    "\n",
    "import numpy as np\n",
    "\n",
    "# read in and print the data\n",
    "data = pd.read_csv(\"snowbird.csv\")\n",
    "print(data)\n",
    "\n",
    "# define vectors of interest\n",
    "temperature_vector = data[\"TAVG\"].tolist()\n",
    "precipitation_vector = data[\"PRCP\"].tolist()\n",
    "        \n",
    "# print the vector to see if it worked\n",
    "print (temperature_vector)\n",
    "print (precipitation_vector)"
   ]
  },
  {
   "cell_type": "markdown",
   "metadata": {},
   "source": [
    "We'll next use descriptive statistics to analyze the data in `temperature_vector`.\n",
    "\n",
    "In this problem, we'll do calculations that are also available in NumPy. For the purpose of this homework, however, **we want you to implement the solutions using standard python functionality and the math library, and then check your results using functions in NumPy** . \n",
    "\n",
    "See the the [NumPy library](http://docs.scipy.org/doc/numpy-1.11.0/reference/routines.statistics.html) documentation and include the checks as a separate code cell. "
   ]
  },
  {
   "cell_type": "markdown",
   "metadata": {},
   "source": [
    "### Task 1.1: Calculate the Sum of a Vector\n",
    "\n",
    "Write a function that calculates and returns the sum of a vector that you pass into it. \n",
    "\n",
    "Pass the temperature and precipitaton vector into this function and print the result."
   ]
  },
  {
   "cell_type": "code",
   "execution_count": 123,
   "metadata": {},
   "outputs": [
    {
     "name": "stdout",
     "output_type": "stream",
     "text": [
      "3269.0\n"
     ]
    }
   ],
   "source": [
    "def sums (a):\n",
    "    total = 0;\n",
    "    for i in a:\n",
    "        total = total + i\n",
    "    return total\n",
    "\n",
    "print(sums(temperature_vector))"
   ]
  },
  {
   "cell_type": "code",
   "execution_count": 3,
   "metadata": {},
   "outputs": [
    {
     "data": {
      "text/plain": [
       "3269.0000000000005"
      ]
     },
     "execution_count": 3,
     "metadata": {},
     "output_type": "execute_result"
    }
   ],
   "source": [
    "sum(temperature_vector)"
   ]
  },
  {
   "cell_type": "markdown",
   "metadata": {},
   "source": [
    "### Task 1.2: Calculate the Mean of a Vector\n",
    "\n",
    "Write a function that calculates and returns the [arithmetic mean](https://en.wikipedia.org/wiki/Arithmetic_mean) of a vector that you pass into it. Use your above defined sum function to calculate sum of all the elements of a vector.\n",
    "\n",
    "Pass the temperature and precipitaton vector into this function and print the result. Provide a written interpretation of your results (e.g., \"The mean temperature for Snowbird is XXX degrees Fahrenheit. The mean precipitation is XXX inches.\")"
   ]
  },
  {
   "cell_type": "code",
   "execution_count": 99,
   "metadata": {},
   "outputs": [
    {
     "data": {
      "text/plain": [
       "'40.8625'"
      ]
     },
     "execution_count": 99,
     "metadata": {},
     "output_type": "execute_result"
    }
   ],
   "source": [
    "def means (a):\n",
    "    return(str(round(sums(a)/len(a),4)))\n",
    "def means_int (a):\n",
    "    return((round(sums(a)/len(a),4)))\n",
    "\n",
    "\n",
    "\n",
    "means(temperature_vector)"
   ]
  },
  {
   "cell_type": "code",
   "execution_count": 100,
   "metadata": {},
   "outputs": [
    {
     "name": "stdout",
     "output_type": "stream",
     "text": [
      "The mean temperature for Snowbird is 40.8625 degrees Fahrenheit. The mean precipitation is 4.3763 inches.\n"
     ]
    }
   ],
   "source": [
    "print(\"The mean temperature for Snowbird is \" + means(temperature_vector) +\n",
    "      \" degrees Fahrenheit. The mean precipitation is \" + means(precipitation_vector) + \" inches.\")"
   ]
  },
  {
   "cell_type": "code",
   "execution_count": 101,
   "metadata": {},
   "outputs": [
    {
     "data": {
      "text/plain": [
       "40.8625"
      ]
     },
     "execution_count": 101,
     "metadata": {},
     "output_type": "execute_result"
    }
   ],
   "source": [
    "np.mean(temperature_vector)"
   ]
  },
  {
   "cell_type": "markdown",
   "metadata": {},
   "source": [
    "**Your Interpretation:** TODO"
   ]
  },
  {
   "cell_type": "markdown",
   "metadata": {},
   "source": [
    "### Task 1.3: Calculate the Median of a Vector\n",
    "Write a function that calculates and returns the [median](https://en.wikipedia.org/wiki/Median) of a vector. Pass the temperature vector into this function and print the result. Make sure that your function works for both vectors with an even and odd number of elements. In the case of an even number of elements, use the mean of the two middle values. Provide a written interpretation of your results.\n",
    "\n",
    "Hint: the [`sorted()`](https://docs.python.org/3/library/functions.html#sorted) function might be helpful for this."
   ]
  },
  {
   "cell_type": "code",
   "execution_count": 102,
   "metadata": {},
   "outputs": [
    {
     "name": "stdout",
     "output_type": "stream",
     "text": [
      "37.85\n",
      "4.045\n"
     ]
    }
   ],
   "source": [
    "print(np.median(temperature_vector))\n",
    "print(np.median(precipitation_vector))"
   ]
  },
  {
   "cell_type": "code",
   "execution_count": 103,
   "metadata": {},
   "outputs": [
    {
     "name": "stdout",
     "output_type": "stream",
     "text": [
      "37.85\n",
      "4.045\n"
     ]
    }
   ],
   "source": [
    "def medians(a):\n",
    "    a.sort()\n",
    "    if(len(a) % 2 !=0):\n",
    "        return(a[round((len(a)-1)/2)])\n",
    "    else:\n",
    "        i = round((len(a)-1)/2)\n",
    "        j = i - 1\n",
    "        return(means([a[i],a[j]]))\n",
    "            \n",
    "    \n",
    "print(medians(temperature_vector))\n",
    "print(medians(precipitation_vector))"
   ]
  },
  {
   "cell_type": "code",
   "execution_count": 107,
   "metadata": {},
   "outputs": [
    {
     "name": "stdout",
     "output_type": "stream",
     "text": [
      "The median temperature for Snowbird is 37.85 degrees Fahrenheit. The median precipitation is 4.045 inches.\n"
     ]
    }
   ],
   "source": [
    "print(\"The median temperature for Snowbird is \" + medians(temperature_vector) +\n",
    "      \" degrees Fahrenheit. The median precipitation is \" + medians(precipitation_vector) + \" inches.\")"
   ]
  },
  {
   "cell_type": "markdown",
   "metadata": {},
   "source": []
  },
  {
   "cell_type": "markdown",
   "metadata": {},
   "source": [
    "### Task 1.4: Calculate the Variance of a Vector\n",
    "\n",
    "Write a function that calculates and returns the [variance](https://en.wikipedia.org/wiki/Variance) of a vector. Pass the temperature and precipitation vectors into this function and print the result. Provide a written interpretation of your results. Is the variance high? Why, Why not? \n",
    "\n",
    "The variance is the average of the squared deviations from the mean, i.e.,\n",
    "\n",
    "$$ Var(X) = {\\sigma}^{2} = \\frac{1}{N} \\sum_{i=1}^{N} {{(x_i - \\mu)}^2} $$\n",
    "\n",
    "where $\\mu$ is the mean of the vector. Hint: use your mean function to calculate it."
   ]
  },
  {
   "cell_type": "code",
   "execution_count": 106,
   "metadata": {},
   "outputs": [
    {
     "data": {
      "text/plain": [
       "'183.6533'"
      ]
     },
     "execution_count": 106,
     "metadata": {},
     "output_type": "execute_result"
    }
   ],
   "source": [
    "def vars (a):\n",
    "    x = []\n",
    "    for i in range(len(a)):\n",
    "        x.append((a[i] - means_int(a))**2)\n",
    "        \n",
    "    return(str(means(x)))\n",
    "vars(temperature_vector)"
   ]
  },
  {
   "cell_type": "code",
   "execution_count": 112,
   "metadata": {},
   "outputs": [
    {
     "data": {
      "text/plain": [
       "183.65334375"
      ]
     },
     "execution_count": 112,
     "metadata": {},
     "output_type": "execute_result"
    }
   ],
   "source": [
    "np.var(temperature_vector)"
   ]
  },
  {
   "cell_type": "code",
   "execution_count": 114,
   "metadata": {},
   "outputs": [
    {
     "name": "stdout",
     "output_type": "stream",
     "text": [
      "The variance of temperature for Snowbird is 183.6533 degrees Fahrenheit. The variance of precipitation is 7.9549 inches.\n",
      "\n",
      "variance is high for both temp and precipitaion, this can be assumed becuase the variance returned is signficatnly greater than the mean of both vectors\n"
     ]
    }
   ],
   "source": [
    "print(\"The variance of temperature for Snowbird is \" + vars(temperature_vector) +\n",
    "      \" degrees Fahrenheit. The variance of precipitation is \" + vars(precipitation_vector) + \" inches.\" + '\\n')\n",
    "\n",
    "print(\"variance is high for both temp and precipitaion, this can be assumed becuase the variance returned is signficatnly greater than the mean of both vectors\")"
   ]
  },
  {
   "cell_type": "markdown",
   "metadata": {},
   "source": []
  },
  {
   "cell_type": "markdown",
   "metadata": {},
   "source": [
    "### Task 1.5: Histogram\n",
    "\n",
    "Write a function that takes a vector and an integer `b` and calculates a [histogram](https://en.wikipedia.org/wiki/Histogram) with `b` bins. The function should return an array containing two arrays. The first should be the counts for each bin, the second should contain the borders of the bins.\n",
    "\n",
    "For `b=6` for the temperature vector, your output should look like this: \n",
    "\n",
    "`[[20, 16, 11, 6, 11, 16], [21.8, 28.75, 35.7, 42.650000000000006, 49.6, 56.55, 63.5]]`\n",
    "\n",
    "Here, the first array gives the size of these bins, the second defines the bands that are equally spaced between minimum and maximum value. That is, the first band from 21.8-28.75 has 20 entries, the second, from 28.75-35.7 has 16 entries, etc. \n",
    "\n",
    "\n",
    "Calculate the histogram for precipitation and temperature when b=5. Once you have the calculated bins and values, plot the histogram for precipitaion and temperature using `hist` function in `matplotlib.pyplot` library. Provide a written interpretation of your results. Comment on the shape of each histogram; is it unimodal or bimodal? Is the distribution skewed (if so, in which direction)?"
   ]
  },
  {
   "cell_type": "code",
   "execution_count": 186,
   "metadata": {},
   "outputs": [
    {
     "name": "stdout",
     "output_type": "stream",
     "text": [
      "[[22, 20, 11, 8, 19], [21.8, 30.14, 38.48, 46.82, 55.16, 63.5]]\n",
      "(array([22, 20, 11,  8, 19]), array([21.8 , 30.14, 38.48, 46.82, 55.16, 63.5 ]))\n",
      "\n",
      "[[27, 28, 19, 4, 2], [0.0, 2.758, 5.516, 8.274, 11.032, 13.79]]\n",
      "(array([27, 28, 19,  4,  2]), array([ 0.   ,  2.758,  5.516,  8.274, 11.032, 13.79 ]))\n"
     ]
    },
    {
     "data": {
      "image/png": "[encoded data removed]",
      "text/plain": [
       "<Figure size 1200x400 with 2 Axes>"
      ]
     },
     "metadata": {},
     "output_type": "display_data"
    },
    {
     "name": "stdout",
     "output_type": "stream",
     "text": [
      "The precipitation histogram is unimodal skewed to the left side,\n",
      "while the temperature histogram is bimodal with peaks on both sides and a dip in the middle\n"
     ]
    }
   ],
   "source": [
    "import matplotlib.pyplot as plt\n",
    "\n",
    "\n",
    "def histogram(a, bins):\n",
    "    b = bins\n",
    "    \n",
    "    a_min = min(a)\n",
    "    a_max = max(a)\n",
    "    a_range = a_max - a_min\n",
    "    bin_size = a_range/b\n",
    "    bin_edges = []\n",
    "\n",
    "    for i in range(b + 1):\n",
    "        bin_edges.append(round(a_min + i * bin_size, 4))\n",
    "\n",
    "   \n",
    "    hist = []\n",
    "    for i in range(b):\n",
    "        count = 0\n",
    "        for value in a:\n",
    "            if bin_edges[i] <= value < bin_edges[i + 1]:\n",
    "                count += 1\n",
    "        hist.append(count)\n",
    "\n",
    "    hist[-1] = hist[-1] + 1\n",
    "    \n",
    "    return [hist,bin_edges]\n",
    "    \n",
    "print(histogram(temperature_vector, bins = 5))\n",
    "print(str(np.histogram(temperature_vector, bins = 5)) + '\\n')\n",
    "print(histogram(precipitation_vector,bins = 5))\n",
    "print(np.histogram(precipitation_vector, bins = 5))\n",
    "\n",
    "\n",
    "fig, (ax1, ax2) = plt.subplots(1, 2, figsize=(12, 4))\n",
    "\n",
    "ax1.hist(precipitation_vector, bins=5, color='blue', edgecolor='black')\n",
    "ax1.set_title('Precipitation')\n",
    "\n",
    "ax2.hist(temperature_vector, bins=5, color='red', edgecolor='black')\n",
    "ax2.set_title('Temperature')\n",
    "\n",
    "plt.show()\n",
    "\n",
    "\n",
    "print(\"The precipitation histogram is unimodal skewed to the left side,\" + '\\n' +\n",
    "      \"while the temperature histogram is bimodal with peaks on both sides and a dip in the middle\")"
   ]
  },
  {
   "cell_type": "code",
   "execution_count": null,
   "metadata": {},
   "outputs": [],
   "source": [
    " "
   ]
  },
  {
   "cell_type": "markdown",
   "metadata": {},
   "source": [
    " "
   ]
  },
  {
   "cell_type": "markdown",
   "metadata": {},
   "source": [
    "## Part 2: Working with Matrices"
   ]
  },
  {
   "cell_type": "markdown",
   "metadata": {},
   "source": [
    "For the second part of the homework, we are going to work with matrices. The [dataset we will use](https://www.wunderground.com/history/airport/KSLC/2015/1/1/CustomHistory.html?dayend=31&monthend=12&yearend=2015&req_city=&req_state=&req_statename=&reqdb.zip=&reqdb.magic=&reqdb.wmo=) contains different properties of the weather in Salt Lake City for 2015 (temperature, humidity, sea level, ...). It is stored in the file [`SLC_2015.csv`](SLC_2015.csv) in this repository."
   ]
  },
  {
   "cell_type": "markdown",
   "metadata": {},
   "source": [
    "We first read the data from the file and store it in a nested python array (`weather_matrix`). A nested python array is an array, where each element is an array itself. Here is a simple example: "
   ]
  },
  {
   "cell_type": "code",
   "execution_count": 188,
   "metadata": {},
   "outputs": [
    {
     "data": {
      "text/plain": [
       "[[1, 2, 3], ['a', 'b', 'c']]"
      ]
     },
     "execution_count": 188,
     "metadata": {},
     "output_type": "execute_result"
    }
   ],
   "source": [
    "arr1 = [1,2,3]\n",
    "arr2 = ['a', 'b', 'c']\n",
    "\n",
    "nestedArr = [arr1, arr2]\n",
    "nestedArr"
   ]
  },
  {
   "cell_type": "markdown",
   "metadata": {},
   "source": [
    "We provide you with the import code, which writes the data into the nested list `temperature_matrix`. The list contains one list for each month, which, in turn, contains the mean temperature of every day of that month. "
   ]
  },
  {
   "cell_type": "code",
   "execution_count": 189,
   "metadata": {},
   "outputs": [
    {
     "name": "stdout",
     "output_type": "stream",
     "text": [
      "[[15, 19, 26, 28, 37, 38, 38, 36, 35, 31, 39, 36, 35, 30, 31, 31, 37, 44, 40, 35, 31, 31, 31, 33, 42, 41, 44, 42, 36, 40, 39], [39, 49, 50, 50, 53, 57, 60, 53, 55, 45, 43, 47, 46, 48, 43, 40, 38, 44, 47, 44, 39, 33, 31, 35, 44, 35, 37, 36], [40, 37, 34, 33, 39, 43, 45, 45, 46, 50, 54, 50, 51, 56, 62, 63, 61, 53, 47, 53, 57, 54, 52, 47, 42, 48, 56, 62, 53, 57, 63], [46, 44, 44, 54, 60, 50, 52, 46, 49, 53, 58, 50, 57, 56, 33, 44, 50, 54, 56, 56, 60, 61, 61, 59, 51, 46, 50, 57, 65, 63], [63, 71, 68, 67, 62, 59, 58, 57, 49, 53, 59, 68, 65, 65, 53, 48, 56, 58, 55, 59, 58, 58, 55, 57, 62, 59, 61, 61, 64, 71, 76], [80, 68, 69, 68, 69, 70, 66, 73, 77, 78, 72, 74, 75, 76, 81, 77, 78, 83, 83, 78, 81, 78, 78, 83, 82, 84, 87, 88, 91, 89], [87, 87, 87, 89, 79, 79, 76, 75, 73, 72, 77, 79, 81, 77, 80, 80, 79, 74, 74, 73, 76, 77, 75, 78, 78, 84, 77, 66, 70, 76, 79], [80, 79, 69, 76, 82, 74, 76, 69, 72, 79, 83, 81, 83, 88, 83, 79, 77, 72, 74, 76, 81, 74, 76, 84, 85, 78, 77, 80, 85, 82, 75], [82, 83, 82, 80, 75, 60, 65, 66, 71, 73, 74, 76, 76, 74, 65, 57, 59, 56, 60, 65, 69, 71, 73, 72, 77, 79, 79, 74, 73, 77], [78, 64, 61, 62, 64, 65, 62, 65, 64, 69, 70, 64, 65, 67, 66, 66, 69, 66, 62, 56, 57, 55, 54, 57, 58, 58, 51, 49, 50, 45, 57], [61, 61, 53, 41, 39, 40, 40, 44, 51, 36, 40, 42, 41, 43, 48, 39, 32, 41, 42, 39, 34, 34, 35, 40, 45, 32, 28, 25, 25, 28], [29, 29, 32, 35, 36, 38, 37, 45, 51, 47, 37, 35, 36, 31, 26, 30, 23, 35, 41, 36, 38, 38, 31, 30, 23, 19, 17, 19, 21, 21, 12]]\n",
      "Mean temp on August 23: 76\n"
     ]
    }
   ],
   "source": [
    "# initialize the 12 arrays for the months\n",
    "temperature_matrix = [[] for i in range(12)]\n",
    "\n",
    "# open the file and append the values of the last column to the array\n",
    "with open('SLC_2015.csv') as csvfile:\n",
    "    filereader = csv.reader(csvfile, delimiter=',', quotechar='|')\n",
    "    # get rid of the header\n",
    "    next(filereader)\n",
    "    for row in filereader:\n",
    "        month = int(row[0].split('/')[0])\n",
    "        mean_temp = int(row[2])\n",
    "        temperature_matrix[month-1].append(mean_temp)\n",
    "\n",
    "print(temperature_matrix)\n",
    "\n",
    "# the mean tempertarure on August 23. Note the index offset:\n",
    "print(\"Mean temp on August 23: \" + str(temperature_matrix[7][22]))"
   ]
  },
  {
   "cell_type": "markdown",
   "metadata": {},
   "source": [
    "We will next compute the same descriptive statistics as in Part 1 using the nested array `temperature_matrix`. \n",
    "\n",
    "In this problem, **we again want you to implement the solutions using standard python functionality and the math library**. We recommend you check your results using NumPy.\n",
    "\n",
    "**Note:** Since the lists in the matrix are of varying lengths (28 to 31 days) many of the standard NumPy functions won't work directly."
   ]
  },
  {
   "cell_type": "markdown",
   "metadata": {},
   "source": [
    "### Task 2.1: Calculates the Avg. Temperature from April to July(4 months)\n",
    "\n",
    "Write a function that calculates the mean of a matrix from a particular starting month to the ending month. For this version calculate the mean over all elements in the matrix as if it was one large vector. \n",
    "Pass in the matrix with the weather data,starting and ending month and return the result. Provide a written interpretation of your results.\n",
    "Can you use your function from Part 1 and get a valid result?"
   ]
  },
  {
   "cell_type": "markdown",
   "metadata": {},
   "source": []
  },
  {
   "cell_type": "code",
   "execution_count": 213,
   "metadata": {},
   "outputs": [
    {
     "name": "stdout",
     "output_type": "stream",
     "text": [
      "[1.36363636 1.72727273 2.36363636 2.54545455 3.36363636 3.45454545\n",
      " 3.45454545 3.27272727 3.18181818 2.81818182 3.54545455 3.27272727\n",
      " 3.18181818 2.72727273 2.81818182 2.81818182 3.36363636 4.\n",
      " 3.63636364 3.18181818 2.81818182 2.81818182 2.81818182 3.\n",
      " 3.81818182 3.72727273 4.         3.81818182 3.27272727 3.63636364\n",
      " 3.54545455 3.54545455 4.45454545 4.54545455 4.54545455 4.81818182\n",
      " 5.18181818 5.45454545 4.81818182 5.         4.09090909 3.90909091\n",
      " 4.27272727 4.18181818 4.36363636 3.90909091 3.63636364 3.45454545\n",
      " 4.         4.27272727 4.         3.54545455 3.         2.81818182\n",
      " 3.18181818 4.         3.18181818 3.36363636 3.27272727 3.63636364\n",
      " 3.36363636 3.09090909 3.         3.54545455 3.90909091 4.09090909\n",
      " 4.09090909 4.18181818 4.54545455 4.90909091 4.54545455 4.63636364\n",
      " 5.09090909 5.63636364 5.72727273 5.54545455 4.81818182 4.27272727\n",
      " 4.81818182 5.18181818 4.90909091 4.72727273 4.27272727 3.81818182\n",
      " 4.36363636 5.09090909 5.63636364 4.81818182 5.18181818 5.72727273\n",
      " 4.18181818 4.         4.         4.90909091 5.45454545 4.54545455\n",
      " 4.72727273 4.18181818 4.45454545 4.81818182 5.27272727 4.54545455\n",
      " 5.18181818 5.09090909 3.         4.         4.54545455 4.90909091\n",
      " 5.09090909 5.09090909 5.45454545 5.54545455 5.54545455 5.36363636\n",
      " 4.63636364 4.18181818 4.54545455 5.18181818 5.90909091 5.72727273\n",
      " 5.72727273 6.45454545 6.18181818 6.09090909 5.63636364 5.36363636\n",
      " 5.27272727 5.18181818 4.45454545 4.81818182 5.36363636 6.18181818\n",
      " 5.90909091 5.90909091 4.81818182 4.36363636 5.09090909 5.27272727\n",
      " 5.         5.36363636 5.27272727 5.27272727 5.         5.18181818\n",
      " 5.63636364 5.36363636 5.54545455 5.54545455 5.81818182 6.45454545\n",
      " 6.90909091 7.27272727 6.18181818 6.27272727 6.18181818 6.27272727\n",
      " 6.36363636 6.         6.63636364 7.         7.09090909 6.54545455\n",
      " 6.72727273 6.81818182 6.90909091 7.36363636 7.         7.09090909\n",
      " 7.54545455 7.54545455 7.09090909 7.36363636 7.09090909 7.09090909\n",
      " 7.54545455 7.45454545 7.63636364 7.90909091 8.         8.27272727\n",
      " 8.09090909 7.90909091 7.90909091 7.90909091 8.09090909 7.18181818\n",
      " 7.18181818 6.90909091 6.81818182 6.63636364 6.54545455 7.\n",
      " 7.18181818 7.36363636 7.         7.27272727 7.27272727 7.18181818\n",
      " 6.72727273 6.72727273 6.63636364 6.90909091 7.         6.81818182\n",
      " 7.09090909 7.09090909 7.63636364 7.         6.         6.36363636\n",
      " 6.90909091 7.18181818 7.27272727 7.18181818 6.27272727 6.90909091\n",
      " 7.45454545 6.72727273 6.90909091 6.27272727 6.54545455 7.18181818\n",
      " 7.54545455 7.36363636 7.54545455 8.         7.54545455 7.18181818\n",
      " 7.         6.54545455 6.72727273 6.90909091 7.36363636 6.72727273\n",
      " 6.90909091 7.63636364 7.72727273 7.09090909 7.         7.27272727\n",
      " 7.72727273 7.45454545 6.81818182 7.45454545 7.54545455 7.45454545\n",
      " 7.27272727 6.81818182 5.45454545 5.90909091 6.         6.45454545\n",
      " 6.63636364 6.72727273 6.90909091 6.90909091 6.72727273 5.90909091\n",
      " 5.18181818 5.36363636 5.09090909 5.45454545 5.90909091 6.27272727\n",
      " 6.45454545 6.63636364 6.54545455 7.         7.18181818 7.18181818\n",
      " 6.72727273 6.63636364 7.         7.09090909 5.81818182 5.54545455\n",
      " 5.63636364 5.81818182 5.90909091 5.63636364 5.90909091 5.81818182\n",
      " 6.27272727 6.36363636 5.81818182 5.90909091 6.09090909 6.\n",
      " 6.         6.27272727 6.         5.63636364 5.09090909 5.18181818\n",
      " 5.         4.90909091 5.18181818 5.27272727 5.27272727 4.63636364\n",
      " 4.45454545 4.54545455 4.09090909 5.18181818 5.54545455 5.54545455\n",
      " 4.81818182 3.72727273 3.54545455 3.63636364 3.63636364 4.\n",
      " 4.63636364 3.27272727 3.63636364 3.81818182 3.72727273 3.90909091\n",
      " 4.36363636 3.54545455 2.90909091 3.72727273 3.81818182 3.54545455\n",
      " 3.09090909 3.09090909 3.18181818 3.63636364 4.09090909 2.90909091\n",
      " 2.54545455 2.27272727 2.27272727 2.54545455]\n",
      " we pass in the matrix and the two months we want to start and end at, the function then returns a vector of all the means i cant get my function to work becuase it throws an error for unsupported character types.\n"
     ]
    },
    {
     "name": "stderr",
     "output_type": "stream",
     "text": [
      "/Users/chasemaughan/anaconda3/envs/R/lib/python3.7/site-packages/numpy/core/_methods.py:163: VisibleDeprecationWarning: Creating an ndarray from ragged nested sequences (which is a list-or-tuple of lists-or-tuples-or ndarrays with different lengths or shapes) is deprecated. If you meant to do this, you must specify 'dtype=object' when creating the ndarray.\n",
      "  arr = asanyarray(a)\n"
     ]
    }
   ],
   "source": [
    "def mean_over_months(matrix, start_month, end_month):\n",
    "    \n",
    "    selected_months = matrix[start_month - 1:end_month]\n",
    "\n",
    "    result = np.mean(selected_months)\n",
    "    \n",
    "    return result\n",
    "\n",
    "print(mean_over_months(temperature_matrix,1,11))\n",
    "\n",
    "print(\" we pass in the matrix and the two months we want to start and end at, the function then returns a vector of all the means\"\n",
    "     + \" i cant get my function to work becuase it throws an error for unsupported character types.\")"
   ]
  },
  {
   "cell_type": "code",
   "execution_count": null,
   "metadata": {},
   "outputs": [],
   "source": [
    " "
   ]
  },
  {
   "cell_type": "markdown",
   "metadata": {},
   "source": [
    " "
   ]
  },
  {
   "cell_type": "markdown",
   "metadata": {},
   "source": [
    "### Task 2.2:  Calculate the mean of each vector of a matrix\n",
    "\n",
    "Write a function that calculates the mean temperature of each month and returns an array with the means for each row. Provide a written interpretation of your results. Can you use the function you implemented in Part 1 here efficiently? If so, use it."
   ]
  },
  {
   "cell_type": "code",
   "execution_count": 231,
   "metadata": {},
   "outputs": [
    {
     "name": "stdout",
     "output_type": "stream",
     "text": [
      "Here is a listing of the mean temperature of all given months in slc: \n",
      "\n",
      "[34.54838709677419, 44.32142857142857, 50.096774193548384, 52.833333333333336, 60.483870967741936, 77.86666666666666, 77.87096774193549, 78.35483870967742, 71.43333333333334, 61.16129032258065, 39.96666666666667, 31.548387096774192]\n",
      "I didnt really have to resue the function from eariler, or the numpy version. just created it here\n"
     ]
    }
   ],
   "source": [
    "    def mean_temperature_per_month(matrix):\n",
    "        monthly_means = []\n",
    "\n",
    "        for month_temps in matrix:\n",
    "            if month_temps:  \n",
    "                mean_temp = sum(month_temps) / len(month_temps)\n",
    "                monthly_means.append(mean_temp)\n",
    "\n",
    "        return monthly_means\n",
    "\n",
    "\n",
    "\n",
    "monthly_means_result = mean_temperature_per_month(temperature_matrix)\n",
    "\n",
    "\n",
    "print(\"Here is a listing of the mean temperature of all given months in slc: \" + '\\n')\n",
    "print(monthly_means_result)\n",
    "\n",
    "print(\"I didnt really have to resue the function from eariler, or the numpy version. just created it here\")"
   ]
  },
  {
   "cell_type": "markdown",
   "metadata": {},
   "source": []
  },
  {
   "cell_type": "markdown",
   "metadata": {},
   "source": [
    "### Task 2.3:  Calculate the median of a whole matrix\n",
    "\n",
    "Write a function that calculates and returns the median of a matrix over all values (independent from which row they are coming) and returns it. Provide a written interpretation of your results. Can you use your function from Part 1 and get a valid result?"
   ]
  },
  {
   "cell_type": "code",
   "execution_count": 234,
   "metadata": {},
   "outputs": [
    {
     "name": "stdout",
     "output_type": "stream",
     "text": [
      "Here is a listing of the median temperature in slc: \n",
      "\n",
      "57\n",
      "I didnt really have to resue the function from eariler, or the numpy version. just created it here\n"
     ]
    }
   ],
   "source": [
    "def median_temperature_matrix(matrix):\n",
    "        all_m = []\n",
    "        for month_temps in matrix:\n",
    "              for i in month_temps:\n",
    "                    all_m.append(i)\n",
    "\n",
    "        return medians(all_m)\n",
    "\n",
    "\n",
    "\n",
    "median_m = median_temperature_matrix(temperature_matrix)\n",
    "\n",
    "\n",
    "print(\"Here is a listing of the median temperature in slc: \" + '\\n')\n",
    "print(median_m)\n",
    "\n",
    "print(\"I resued the function from eariler, but it works with the numpy version as well\")"
   ]
  },
  {
   "cell_type": "code",
   "execution_count": 235,
   "metadata": {},
   "outputs": [
    {
     "name": "stdout",
     "output_type": "stream",
     "text": [
      "Here is a listing of the median temperature in slc: \n",
      "\n",
      "57.0\n",
      "I resued the function from eariler, but it works with the numpy version as well\n"
     ]
    }
   ],
   "source": [
    "def n_median_temperature_matrix(matrix):\n",
    "        all_m = []\n",
    "        for month_temps in matrix:\n",
    "              for i in month_temps:\n",
    "                    all_m.append(i)\n",
    "\n",
    "        return np.median(all_m)\n",
    "\n",
    "median_m = n_median_temperature_matrix(temperature_matrix)\n",
    "\n",
    "\n",
    "print(\"Here is a listing of the median temperature in slc: \" + '\\n')\n",
    "print(median_m)\n",
    "\n",
    "print(\"I resued the function from eariler, but it works with the numpy version as well\")"
   ]
  },
  {
   "cell_type": "markdown",
   "metadata": {},
   "source": [
    " "
   ]
  },
  {
   "cell_type": "markdown",
   "metadata": {},
   "source": [
    "### Task 2.4: Calculate the median of each vector of a matrix\n",
    "\n",
    "Write a function that calculates the median of each sub array (i.e. each row in the temperature_matrix) in the matrix and returns an array of medians (one entry for each row). To do so, use the function you implemented in Part 1. Provide a written interpretation of your results. "
   ]
  },
  {
   "cell_type": "code",
   "execution_count": 243,
   "metadata": {},
   "outputs": [
    {
     "name": "stdout",
     "output_type": "stream",
     "text": [
      "Here is a listing of the median temperatures of all given months in slc: \n",
      "\n",
      "[36.0, 44.0, 51.0, 52.5, 59.0, 78.0, 77.0, 79.0, 73.0, 62.0, 40.0, 32.0]\n",
      "\n",
      "I resued the function from eariler, but it works with the numpy version as well\n"
     ]
    }
   ],
   "source": [
    "def mean_temperature_per_month(matrix):\n",
    "        monthly_medians = []\n",
    "\n",
    "        for month_temps in matrix:\n",
    "            if month_temps:  \n",
    "                median_temp = medians(month_temps)\n",
    "                monthly_medians.append(float(median_temp))\n",
    "\n",
    "        return monthly_medians\n",
    "\n",
    "\n",
    "\n",
    "monthly_means_result = mean_temperature_per_month(temperature_matrix)\n",
    "\n",
    "\n",
    "print(\"Here is a listing of the median temperatures of all given months in slc: \" + '\\n')\n",
    "print(monthly_means_result)\n",
    "\n",
    "print('\\n' + \"I resued the function from eariler, but it works with the numpy version as well\")"
   ]
  },
  {
   "cell_type": "markdown",
   "metadata": {},
   "source": [
    " "
   ]
  },
  {
   "cell_type": "markdown",
   "metadata": {},
   "source": [
    "### Task 2.5: Calculate the standard deviation of a whole matrix\n",
    "\n",
    "Write a function that calculates the [standard deviation](https://en.wikipedia.org/wiki/Standard_deviation) of a matrix over all values in the matrix (ignoring from which row they were coming) and returns it. Can you use your function calculating variance from Part 1 and get a valid result? Provide a written interpretation of your results. "
   ]
  },
  {
   "cell_type": "code",
   "execution_count": 258,
   "metadata": {},
   "outputs": [
    {
     "name": "stdout",
     "output_type": "stream",
     "text": [
      "Here is a listing of the standard deviation of the temperature in slc: \n",
      "\n",
      "17.90899494667414\n",
      "I resued the function from eariler, but it works with the numpy version as well\n"
     ]
    }
   ],
   "source": [
    "def std_temperature_matrix(matrix):\n",
    "        all_m = []\n",
    "        for month_temps in matrix:\n",
    "              for i in month_temps:\n",
    "                    all_m.append(i)\n",
    "\n",
    "        return (float(vars(all_m)))\n",
    "\n",
    "\n",
    "\n",
    "std_m = std_temperature_matrix(temperature_matrix)\n",
    "\n",
    "\n",
    "print(\"Here is a listing of the standard deviation of the temperature in slc: \" + '\\n')\n",
    "print(std_m ** 0.5)\n",
    "\n",
    "print(\"I resued the function from eariler, but it works with the numpy version as well\")"
   ]
  },
  {
   "cell_type": "code",
   "execution_count": 260,
   "metadata": {},
   "outputs": [
    {
     "name": "stdout",
     "output_type": "stream",
     "text": [
      "Here is a listing of the standard deviation of the temperature in slc: \n",
      "\n",
      "17.908994103709958\n",
      "numpy\n"
     ]
    }
   ],
   "source": [
    "def std_temperature_matrix(matrix):\n",
    "        all_m = []\n",
    "        for month_temps in matrix:\n",
    "              for i in month_temps:\n",
    "                    all_m.append(i)\n",
    "\n",
    "        return (np.std(all_m))\n",
    "\n",
    "\n",
    "\n",
    "std_m = std_temperature_matrix(temperature_matrix)\n",
    "\n",
    "\n",
    "print(\"Here is a listing of the standard deviation of the temperature in slc: \" + '\\n')\n",
    "print(std_m)\n",
    "\n",
    "print(\"numpy\")"
   ]
  },
  {
   "cell_type": "markdown",
   "metadata": {},
   "source": [
    " "
   ]
  },
  {
   "cell_type": "markdown",
   "metadata": {},
   "source": [
    "### Task 2.6: Calculate the standard deviation of each vector of a matrix\n",
    "\n",
    "Write a function that calculates the [standard deviation](https://en.wikipedia.org/wiki/Standard_deviation) of each array in the matrix and returns an array of standard deviations (one standard deviation for each row). To do so, use the function calculating variance you implemented in Part 1. \n",
    "Pass in the matrix with the temperature data and return the result. Provide a written interpretation of your results - is the standard deviation consistent across the seasons? "
   ]
  },
  {
   "cell_type": "code",
   "execution_count": 262,
   "metadata": {},
   "outputs": [
    {
     "name": "stdout",
     "output_type": "stream",
     "text": [
      "Here is a listing of the std of the temperatures of all given months in slc: \n",
      "\n",
      "[6.5047828557147085, 7.343868190538281, 8.26323181327984, 6.923792313465215, 6.272678853568067, 6.535717252146087, 5.0208764175191565, 4.666615475909709, 7.552853765299577, 6.937960795507568, 8.715824688461787, 8.968901827983178]\n",
      "\n",
      "I resued the function from eariler, but it works with the numpy version as well\n"
     ]
    }
   ],
   "source": [
    "def std_temperature_per_month(matrix):\n",
    "        monthly_std = []\n",
    "\n",
    "        for month_temps in matrix:\n",
    "            if month_temps:  \n",
    "                median_temp = float(vars(month_temps))\n",
    "                monthly_std.append(median_temp ** 0.5)\n",
    "\n",
    "        return monthly_std\n",
    "\n",
    "\n",
    "\n",
    "monthly_std_result = std_temperature_per_month(temperature_matrix)\n",
    "\n",
    "\n",
    "print(\"Here is a listing of the std of the temperatures of all given months in slc: \" + '\\n')\n",
    "print(monthly_std_result)\n",
    "\n",
    "print('\\n' + \"I resued the function from eariler, but it works with the numpy version as well\")"
   ]
  },
  {
   "cell_type": "code",
   "execution_count": 264,
   "metadata": {},
   "outputs": [
    {
     "name": "stdout",
     "output_type": "stream",
     "text": [
      "Here is a listing of the std of the temperatures of all given months in slc: \n",
      "\n",
      "[6.5047809200539595, 7.343868051591319, 8.263229231729458, 6.923791511078947, 6.272679973334109, 6.535713852025313, 5.0208721481423595, 4.666617114845193, 7.552850823070422, 6.9379590481943945, 8.715822138820613, 8.96890222245524]\n",
      "\n",
      "numpy\n"
     ]
    }
   ],
   "source": [
    "def std_temperature_per_month(matrix):\n",
    "        monthly_std = []\n",
    "\n",
    "        for month_temps in matrix:\n",
    "            if month_temps:  \n",
    "                median_temp = np.std(month_temps)\n",
    "                monthly_std.append(median_temp)\n",
    "\n",
    "        return monthly_std\n",
    "\n",
    "\n",
    "\n",
    "monthly_std_result = std_temperature_per_month(temperature_matrix)\n",
    "\n",
    "\n",
    "print(\"Here is a listing of the std of the temperatures of all given months in slc: \" + '\\n')\n",
    "print(monthly_std_result)\n",
    "\n",
    "print('\\n' + \"numpy\")"
   ]
  },
  {
   "cell_type": "markdown",
   "metadata": {},
   "source": [
    " "
   ]
  },
  {
   "cell_type": "markdown",
   "metadata": {},
   "source": [
    "## Part 3: Poisson distribution \n",
    "\n",
    "In class, we looked at [Bernoulli](https://en.wikipedia.org/wiki/Bernoulli_distribution) and [binomial](https://en.wikipedia.org/wiki/Binomial_distribution) discrete random variables. Another example of a discrete random variable is a *Poisson random variable*. \n",
    "\n",
    "Read the [wikipedia article on the Poisson distribution](https://en.wikipedia.org/wiki/Poisson_distribution)\n",
    "\n",
    "### Part 3.1. Descriptive statistics\n",
    "\n",
    "Describe what a Poisson random variable is. What is the parameter, $\\lambda$? What is the min, max, mean, and variance of a Poisson random variable? "
   ]
  },
  {
   "cell_type": "markdown",
   "metadata": {},
   "source": [
    "------\n",
    "my understading is that a poisson random variable is predicting the constant rate at which independent events take place in a set amount of time. Lambda is The average rate of events occurring in a fixed interval. Min is zero and max dosent really exist but it is unlikely to become a very large number.  lambda is equal to the mean and the variance"
   ]
  },
  {
   "cell_type": "markdown",
   "metadata": {},
   "source": [
    "### Part 3.2. Example \n",
    "\n",
    "Give an example of an application that is described by a Poisson random variable."
   ]
  },
  {
   "cell_type": "markdown",
   "metadata": {},
   "source": [
    "they give the example on the wiki about meteorites bigger than one meter colliding with the earth of the course of a year."
   ]
  },
  {
   "cell_type": "markdown",
   "metadata": {},
   "source": [
    "### Part 3.3. Probability mass function\n",
    "\n",
    "For the parameter $\\lambda = 4$, plot the probability mass function (you may use scipy). "
   ]
  },
  {
   "cell_type": "code",
   "execution_count": 275,
   "metadata": {},
   "outputs": [
    {
     "data": {
      "image/png": "[encoded data removed]",
      "text/plain": [
       "<Figure size 640x480 with 1 Axes>"
      ]
     },
     "metadata": {},
     "output_type": "display_data"
    }
   ],
   "source": [
    "from scipy.stats import poisson\n",
    "\n",
    "p_lambda = 4\n",
    "x_values = np.arange(0, 15)\n",
    "\n",
    "\n",
    "pmf = poisson.pmf(x_values, p_lambda)\n",
    "\n",
    "\n",
    "plt.bar(x_values, pmf, label=f'Poisson PMF ($\\lambda={p_lambda}$)')\n",
    "plt.show()"
   ]
  },
  {
   "cell_type": "markdown",
   "metadata": {},
   "source": [
    "### Part 3.4. Poission sampling\n",
    "\n",
    "Write python code that takes 1500 samples from the Poisson distribution with parameter $\\lambda = 4$. Make a histogram of the samples and compute the sample mean and variance. How does the histogram compare to the probability mass function?"
   ]
  },
  {
   "cell_type": "code",
   "execution_count": 288,
   "metadata": {},
   "outputs": [
    {
     "data": {
      "image/png": "[encoded data removed]",
      "text/plain": [
       "<Figure size 640x480 with 1 Axes>"
      ]
     },
     "metadata": {},
     "output_type": "display_data"
    },
    {
     "name": "stdout",
     "output_type": "stream",
     "text": [
      "the histogram and the pmf line up consistently in a similiar fashion over multiple runs\n"
     ]
    }
   ],
   "source": [
    "p_lambda = 4\n",
    "\n",
    "# Generate 1500 samples from the Poisson distribution  // this single (1) line of code was pulled from chat gpt as i was confused how to generate the 1500 values.\n",
    "poissons = np.random.poisson(p_lambda, size=1500)\n",
    "\n",
    "sample_mean = np.mean(poissons)\n",
    "sample_variance = np.var(poissons)\n",
    "\n",
    "plt.hist(poissons, bins=np.arange(0, 20) - 0.5, density=True, label='Histogram')\n",
    "\n",
    "x_values = np.arange(0, 15)\n",
    "pmf_values = poisson.pmf(x_values, p_lambda)\n",
    "plt.bar(x_values, pmf_values, color='r', label=f'Poisson PMF')\n",
    "\n",
    "\n",
    "plt.legend()\n",
    "plt.show()\n",
    "\n",
    "print(\"the histogram and the pmf line up consistently in a similiar fashion over multiple runs\")"
   ]
  },
  {
   "cell_type": "markdown",
   "metadata": {},
   "source": [
    " "
   ]
  },
  {
   "cell_type": "code",
   "execution_count": null,
   "metadata": {},
   "outputs": [],
   "source": []
  }
 ],
 "metadata": {
  "kernelspec": {
   "display_name": "Python 3 (ipykernel)",
   "language": "python",
   "name": "python3"
  },
  "language_info": {
   "codemirror_mode": {
    "name": "ipython",
    "version": 3
   },
   "file_extension": ".py",
   "mimetype": "text/x-python",
   "name": "python",
   "nbconvert_exporter": "python",
   "pygments_lexer": "ipython3",
   "version": "3.7.0"
  }
 },
 "nbformat": 4,
 "nbformat_minor": 4
}
