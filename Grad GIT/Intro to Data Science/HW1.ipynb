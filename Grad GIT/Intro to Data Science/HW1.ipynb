{
 "cells": [
  {
   "cell_type": "markdown",
   "metadata": {
    "id": "MH6d4w6M9Ven"
   },
   "source": [
    "# Introduction to Data Science 2024 – Homework 1\n",
    "*COMP 5360 / MATH 4100, University of Utah, http://datasciencecourse.net/*\n",
    "\n",
    "Due: Friday, January 19, 11:59pm.\n",
    "\n",
    "This homework is designed to practice the skills we learned in up until Lecture 3: working with loops, conditions, functions, and the built-in Python data structures. Make sure to go through the lecture again in case you have any troubles.\n",
    "\n",
    "It is **highly recommended** you attempt this assignment first with minimal online aids to practice Python so you have more \"basic\" Python skills before you need to debug more complicated problems. This is like doing addition and subtraction examples by hand when learning *before* learning how to do more advanced problems with calculations.\n",
    "\n",
    "**Note: You are allowed to use built-in Python functions such as `len` and `range` etc. However, do not use functions that will solve the exercise entirely such as `reverse` to reverse a list or `sum` to sum a list.**\n",
    "\n",
    "**Note: You may not use higher-level library functions but should implement everything using functions, loops, and conditions.**"
   ]
  },
  {
   "cell_type": "markdown",
   "metadata": {
    "id": "Rl_mJZqA9Vep"
   },
   "source": [
    "## Your Data\n",
    "Fill out the following information: \n",
    "\n",
    "*First Name:* chase  \n",
    "*Last Name:*  maughan\n",
    "\n",
    "*E-mail:*   u0962361@umail.utah.edu\n",
    "*UID:*  u0962361\n"
   ]
  },
  {
   "cell_type": "markdown",
   "metadata": {
    "id": "Ji-nFi-99Ver"
   },
   "source": [
    "## Problem 1: Second Smallest Element\n",
    "\n",
    "Write a function that returns the second smallest number in a list. You can assume the list will contain numbers and have at least one element."
   ]
  },
  {
   "cell_type": "code",
   "execution_count": 1,
   "metadata": {
    "id": "wr1jIaP59Ves"
   },
   "outputs": [],
   "source": [
    "def get_second_smallest_element(a):\n",
    "    a.sort()\n",
    "    return(a[1])\n",
    "    "
   ]
  },
  {
   "cell_type": "code",
   "execution_count": 2,
   "metadata": {
    "id": "HVIPPmuP9Vet"
   },
   "outputs": [
    {
     "name": "stdout",
     "output_type": "stream",
     "text": [
      "-29\n"
     ]
    }
   ],
   "source": [
    "print(get_second_smallest_element([-15, -112, 14, -29, 17, 360, 86, 128, -12, 0, 23]))"
   ]
  },
  {
   "cell_type": "markdown",
   "metadata": {
    "id": "ohrWTVIt9Veu"
   },
   "source": [
    "## Problem 2: Reversing a List Two Ways\n",
    "\n",
    "Write two functions `reverse` and `reverse_comprehension` that take a list as a parameter and reverses the order of the elements.\n",
    "\n",
    "`reverse` should use element-wise processing\n",
    "\n",
    "`reverse_comprehension` should use a list comprehension"
   ]
  },
  {
   "cell_type": "code",
   "execution_count": 3,
   "metadata": {
    "id": "zr-oNO5H9Vev"
   },
   "outputs": [],
   "source": [
    "def reverse_comprehension(a):\n",
    "    b = []\n",
    "    i = len(a) -1\n",
    "    \n",
    "    [b.append(a[j]) for j in range(i)]\n",
    "        \n",
    "    return b\n",
    "\n",
    "def reverse(a):\n",
    "    b = []\n",
    "\n",
    "    for x in a:\n",
    "        b.append(x)\n",
    "\n",
    "    return b\n",
    "    "
   ]
  },
  {
   "cell_type": "code",
   "execution_count": 4,
   "metadata": {
    "id": "2Bps9lz99Vev"
   },
   "outputs": [
    {
     "name": "stdout",
     "output_type": "stream",
     "text": [
      "[42, 23, 16, 15, 8, 4]\n",
      "['Solitude', 'Brighton', 'Alta', 'Snowbird', 'Powder']\n",
      "[1, 2, 3, 'Loid', 'Anya', 'Yor']\n"
     ]
    }
   ],
   "source": [
    "# call your function with a couple of different lists and print the results here\n",
    "print(reverse([42, 23, 16, 15, 8, 4]))\n",
    "print(reverse([\"Solitude\", \"Brighton\", \"Alta\", \"Snowbird\", \"Powder\"]))\n",
    "print(reverse([1, 2, 3, \"Loid\", \"Anya\", \"Yor\"]))"
   ]
  },
  {
   "cell_type": "code",
   "execution_count": 5,
   "metadata": {
    "id": "OYRLesZg9Vew"
   },
   "outputs": [
    {
     "name": "stdout",
     "output_type": "stream",
     "text": [
      "[42, 23, 16, 15, 8]\n",
      "['Solitude', 'Brighton', 'Alta', 'Snowbird']\n",
      "[1, 2, 3, 'Loid', 'Anya']\n"
     ]
    }
   ],
   "source": [
    "print(reverse_comprehension([42, 23, 16, 15, 8, 4]))\n",
    "print(reverse_comprehension([\"Solitude\", \"Brighton\", \"Alta\", \"Snowbird\", \"Powder\"]))\n",
    "print(reverse_comprehension([1, 2, 3, \"Loid\", \"Anya\", \"Yor\"]))"
   ]
  },
  {
   "cell_type": "markdown",
   "metadata": {
    "id": "6Jcug3z09Vex"
   },
   "source": [
    "## Problem 3: Combining Two Lists\n",
    "\n",
    "Write a function that combines two lists by alternatingly taking elements from the **front** of the first list and the **back** of the second list, e.g. [a,b,c], [1,2,3] → [a,3,b,2,c,1].\n",
    "In case of two lists of different length, the result should be [a,b,c,d],[1,2]=>[a,2,b,1,c,d], i.e., the elements of the longer list are appended at the end."
   ]
  },
  {
   "cell_type": "code",
   "execution_count": 6,
   "metadata": {
    "id": "F5NHxrtB9Vey"
   },
   "outputs": [],
   "source": [
    "def combine_list(a,b):\n",
    "    c = []\n",
    "    i = 0\n",
    "    shortest = len(b)\n",
    "    \n",
    "    if len(a) < len(b):\n",
    "        shortest = len(a)\n",
    "        \n",
    "    while i < shortest:\n",
    "        c.append(a[i])\n",
    "        c.append(b[((len(b)-1)-i)])\n",
    "        i = i + 1;\n",
    "      \n",
    "    if shortest == len(a):\n",
    "        j = len(b) - shortest - 1\n",
    "        while j > -1:\n",
    "            c.append(b[j])\n",
    "            j = j - 1\n",
    "    else:\n",
    "        j = shortest\n",
    "        while j < len(a):\n",
    "            c.append(a[j])\n",
    "            j=j+1\n",
    "            \n",
    "    return c\n",
    "        "
   ]
  },
  {
   "cell_type": "code",
   "execution_count": 7,
   "metadata": {
    "id": "XTcxZt1S9Vey"
   },
   "outputs": [
    {
     "name": "stdout",
     "output_type": "stream",
     "text": [
      "[7, 'C', 8, 'c', 9, 'B', 10, 'b', 'A', 'a']\n",
      "\n",
      "[1, 'B', 2, 'A', 3, 'b', 4, 'a', 5, 6]\n",
      "\n",
      "[1, '13', 2, '3', 3, 'B', 4, 'A', 5, 'b', 6, 'a']\n",
      "\n",
      "[2, 2, 2, 2]\n"
     ]
    }
   ],
   "source": [
    "# call your function with a couple of different lists and print the results here\n",
    "print(combine_list([7,8,9,10], ['a', 'A', 'b', 'B', 'c', 'C']))\n",
    "print()\n",
    "print(combine_list([1,2,3,4,5,6], ['a', 'b', 'A', 'B']))\n",
    "print()\n",
    "print(combine_list([1,2,3,4,5,6], ['a', 'b', 'A', 'B','3','13']))\n",
    "print()\n",
    "print(combine_list([], [2,2,2,2]))"
   ]
  },
  {
   "cell_type": "markdown",
   "metadata": {
    "id": "yxKmpVQd9Vez"
   },
   "source": [
    "## Problem 4: Numbers to Digits in Two Ways\n",
    "\n",
    "Write a function `num_to_digits` that takes a number and returns a list of its digits. e.g. 789456 → [7, 8, 9, 4, 5, 6]\n",
    "\n",
    "You need to implement two versions of the function: `num_to_digits`, a version with element-wise processing, and `num_to_digits_comprehension`, a version using the list comprehension way."
   ]
  },
  {
   "cell_type": "code",
   "execution_count": 8,
   "metadata": {
    "id": "NG72kC6t9Ve1"
   },
   "outputs": [],
   "source": [
    "def num_to_digits_comprehension(a):\n",
    "    b = []\n",
    "\n",
    "    [b.append(j) for j in str(a)]\n",
    "        \n",
    "    return b\n",
    "\n",
    "def num_to_digits(a):\n",
    "    b = []\n",
    "    \n",
    "    for i in str(a):\n",
    "        b.append(i)\n",
    "        \n",
    "    return b\n"
   ]
  },
  {
   "cell_type": "code",
   "execution_count": 9,
   "metadata": {
    "id": "3pjI4Gut9Ve2"
   },
   "outputs": [
    {
     "name": "stdout",
     "output_type": "stream",
     "text": [
      "['2', '8', '0', '1', '3', '5']\n",
      "['3', '9', '6', '8', '3', '9', '6', '0', '1', '7', '5', '6', '4', '9', '6', '1', '2', '6', '6', '3', '9', '5', '3']\n",
      "\n",
      "['2', '8', '0', '1', '3', '5']\n",
      "['3', '9', '6', '8', '3', '9', '6', '0', '1', '7', '5', '6', '4', '9', '6', '1', '2', '6', '6', '3', '9', '5', '3']\n"
     ]
    }
   ],
   "source": [
    "# call your function with a couple of different numbers and print the results here\n",
    "print(num_to_digits(280135))\n",
    "print(num_to_digits(39683960175649612663953))\n",
    "print()\n",
    "print(num_to_digits_comprehension(280135))\n",
    "print(num_to_digits_comprehension(39683960175649612663953))"
   ]
  },
  {
   "cell_type": "markdown",
   "metadata": {
    "id": "5n7BxHMQ9Ve3"
   },
   "source": [
    "## Problem 5: Products in Four Ways\n",
    "\n",
    "Write four functions that compute the product of the numbers in a list. The first function should use a for-loop, the second a while-loop and the third and fourth should use recursion.\n",
    "\n",
    "The two versions of the function using recursion are: a version copying the list when passing the argument, and another version not copying the list when passing the argument.\n",
    "\n",
    "*Hint 1: Passing a slice of the list as an argument will copy the list.*\n",
    "\n",
    "*Hint 2: A function may need more than one argument, but you should allow the function to be called with only one argument given.*"
   ]
  },
  {
   "cell_type": "code",
   "execution_count": 10,
   "metadata": {
    "id": "-PysUUrU9Ve4"
   },
   "outputs": [],
   "source": [
    "def multiply_for(a):\n",
    "    total = 1\n",
    "    for i in a:\n",
    "        total = i * total\n",
    "    return total\n",
    "\n",
    "def multiply_while(a):\n",
    "    total = 1\n",
    "    i = 0\n",
    "    while i < len(a):\n",
    "        total = a[i] * total\n",
    "        i = i+1\n",
    "    return total\n",
    "    \n",
    "def multiply_recursive(a):\n",
    "    if not a:\n",
    "        return 1\n",
    "    return a[0] * multiply_recursive(a[1:])\n",
    "            \n",
    "    \n",
    "def multiply_recursive_no_copy(a, i = 0):\n",
    "    if i == len(a):\n",
    "        return 1\n",
    "    return a[i] * multiply_recursive_no_copy(a, i + 1)"
   ]
  },
  {
   "cell_type": "code",
   "execution_count": 11,
   "metadata": {
    "id": "79pC87cC9Ve5"
   },
   "outputs": [
    {
     "name": "stdout",
     "output_type": "stream",
     "text": [
      "40320 40320 40320 40320\n",
      "\n",
      "-1632960 -1632960 -1632960 -1632960\n",
      "\n",
      "0 0 0 0\n",
      "\n",
      "367416 367416 367416 367416\n"
     ]
    }
   ],
   "source": [
    "# call your function with a couple of different lists and print the results here\n",
    "list1 = range(1,9)\n",
    "list2 = [1, 6, 2, -2, -2, 5, 9, 3, 7, -4, 9]\n",
    "list3 = [1, 8, 2, 0, 3, 9, 1, 8, -2, 3]\n",
    "list4 = [3, 6, 9, -3, 2, 7, 6, 1, -9]\n",
    "\n",
    "print(multiply_for(list1), multiply_while(list1), multiply_recursive(list1), multiply_recursive_no_copy(list1))\n",
    "print()\n",
    "print(multiply_for(list2), multiply_while(list2), multiply_recursive(list2), multiply_recursive_no_copy(list2))\n",
    "print()\n",
    "print(multiply_for(list3), multiply_while(list3), multiply_recursive(list3), multiply_recursive_no_copy(list3))\n",
    "print()\n",
    "print(multiply_for(list4), multiply_while(list4), multiply_recursive(list4), multiply_recursive_no_copy(list4))"
   ]
  },
  {
   "cell_type": "markdown",
   "metadata": {
    "id": "_5KdFNEG9Ve5"
   },
   "source": [
    "## Problem 6: Filtering\n",
    "\n",
    "Write a function `filter_odd` that filters out elements from the **integer** list that are odd. You may assume that there is at least one element left in the list after filtering. \n",
    "\n",
    "For example, aftering filtering out odd numbers from the list [3,-2,-3,1,6,0], you get the output [-2,6,0]."
   ]
  },
  {
   "cell_type": "code",
   "execution_count": 12,
   "metadata": {
    "id": "RR6AVB7h9Ve6"
   },
   "outputs": [],
   "source": [
    "def filter_odd(a):\n",
    "    c = []\n",
    "    for i in a:\n",
    "        if i % 2 == 0:\n",
    "            c.append(i)\n",
    "    return c"
   ]
  },
  {
   "cell_type": "code",
   "execution_count": 13,
   "metadata": {
    "id": "lMvJaf9f9Ve7"
   },
   "outputs": [
    {
     "name": "stdout",
     "output_type": "stream",
     "text": [
      "[-6, 4, 0]\n",
      "[-2, 8, 2, 18, -8]\n",
      "[8, 8, 8, 8, 8, 8]\n"
     ]
    }
   ],
   "source": [
    "# call your function with a couple of different n and print the results here\n",
    "print(filter_odd([7,-6,4,1,0,-9]))\n",
    "print(filter_odd([9,-2,1,8,2,18,-8,3]))\n",
    "print(filter_odd([8,8,8,8,8,8]))"
   ]
  },
  {
   "cell_type": "markdown",
   "metadata": {
    "id": "EGYlBRFG9Ve7"
   },
   "source": [
    "## Problem 7: Lucas Sequence\n",
    "\n",
    "Write a function that takes a number `n` and an empty array that writes the first `n` numbers of the [Lucas Sequence](https://en.wikipedia.org/wiki/Lucas_number) into the empty array. Print the array. \n",
    "\n",
    "The Lucas Sequnece is the sequence where every number after the first two is the sum of the previous two numbers **and** the first two numbers are 2 and 1. This is like the Fibonacci sequence with a different start, i.e.,\n",
    "\n",
    "2, 1, 3, 4, 7, 11, 18, 29, 47, 76, ..."
   ]
  },
  {
   "cell_type": "code",
   "execution_count": 14,
   "metadata": {
    "id": "KLhYmYjw9Ve8"
   },
   "outputs": [],
   "source": [
    "def lucas (n, a):\n",
    "    a = [2, 1, 3]\n",
    "    for i in range(n):\n",
    "        b = ((a[len(a)-1]) + (a[len(a)-2]))\n",
    "        a.append(b)\n",
    "        a\n",
    "    return a"
   ]
  },
  {
   "cell_type": "code",
   "execution_count": 15,
   "metadata": {
    "id": "D0Ben5UQ9Ve9"
   },
   "outputs": [
    {
     "name": "stdout",
     "output_type": "stream",
     "text": [
      "[2, 1, 3, 4, 7, 11, 18, 29, 47, 76, 123, 199, 322, 521, 843, 1364, 2207, 3571, 5778, 9349]\n",
      "[2, 1, 3, 4, 7, 11, 18, 29, 47, 76, 123, 199, 322, 521, 843]\n"
     ]
    }
   ],
   "source": [
    "# call your function with a couple of different n and print the results here\n",
    "sequence = []\n",
    "sequence = lucas(17, sequence)\n",
    "print(sequence)  \n",
    "sequence = lucas(12, sequence)\n",
    "print(sequence)  "
   ]
  },
  {
   "cell_type": "markdown",
   "metadata": {
    "id": "6ycInDlR9Ve9"
   },
   "source": [
    "# Problem 8: Moving Attendance Averages\n",
    "\n",
    "Write a function `moving_average` that takes a list of daily attendance values, and computes a moving average over every consecutive `k` days. Some days will be missing measurements and will instead have the value `999`.\n",
    "\n",
    "**Caveats:**\n",
    "* The days missing measurements should be included in your `k` day window, but should not affect the average.\n",
    "  * e.g.`moving_average([1,999,2],3)` should return `[1.5]`\n",
    "* If all days in a window are missing measurements then the average should also have the value `999`.\n",
    "  * e.g. `moving_average([999, 999, 2], 2)` should return `[999, 2]`\n",
    "* Only compute averages as long as you have enough data points to fill the window.\n",
    "  * e.g. `moving_average([1,2,3,4,5,6,7,8],7)` should return a list of length two.\n",
    "  * e.g. `moving_average([1,2,3,4,5],2)` should return a list of length 4.\n",
    "  * e.g. `moving_average([1,2,3], 4)` should return an empty list.\n",
    "\n",
    "You can use these as example lists, but make sure that your algorithm works on other lists/windows."
   ]
  },
  {
   "cell_type": "code",
   "execution_count": 16,
   "metadata": {
    "id": "qyQv0Ms19Ve-"
   },
   "outputs": [
    {
     "name": "stdout",
     "output_type": "stream",
     "text": [
      "Computed Averages: [89.5] Expected: [89.5]\n",
      "[73.0, 72.0, 77.0, 84.0]\n",
      "[84.0]\n"
     ]
    }
   ],
   "source": [
    "def moving_average(a, k):\n",
    "    b = []\n",
    "    \n",
    "    for i in range(len(a) +1 - k):\n",
    "        w_range = a[i:i+k]\n",
    "        w_sum = sum(x if x != 999 else 0 for x in w_range)\n",
    "        w_size = sum(1 for x in w_range if x != 999)\n",
    "        \n",
    "        if w_size > 0:\n",
    "            b.append(w_sum / w_size)\n",
    "        else:\n",
    "            b.append(999)\n",
    "    \n",
    "    return b\n",
    "\n",
    "\n",
    "print('Computed Averages: ' + str(moving_average([87,999,92],3)), 'Expected: [89.5]')\n",
    "print(str(moving_average([81,72,53,94,65,76,97,88],5)))\n",
    "print(str(moving_average([94,65,76,97,88],5)))"
   ]
  },
  {
   "cell_type": "markdown",
   "metadata": {
    "id": "-If3GsvL9Ve_"
   },
   "source": [
    "### From provided examples:"
   ]
  },
  {
   "cell_type": "code",
   "execution_count": 17,
   "metadata": {
    "id": "Aq9L7jCm9Ve_"
   },
   "outputs": [
    {
     "name": "stdout",
     "output_type": "stream",
     "text": [
      "Computed Averages: [89.5] Expected: [89.5]\n",
      "Computed Averages: [999, 53.0] Expected: [999, 53.0]\n",
      "Length of List: 4 Expected Length: 4\n",
      "Length of List: 3 Expected Length: 3\n",
      "Length of List: 1 Expected Length: 1\n"
     ]
    }
   ],
   "source": [
    "print('Computed Averages: ' + str(moving_average([87,999,92],3)), 'Expected: [89.5]')\n",
    "print('Computed Averages: ' + str(moving_average([999, 999, 53], 2)), 'Expected: [999, 53.0]')\n",
    "print('Length of List: ' + str(len(moving_average([81,72,53,94,65,76,97,88],5))), 'Expected Length: 4')\n",
    "print('Length of List: ' + str(len(moving_average([91,92,83,64,75],3))), 'Expected Length: 3')\n",
    "print('Length of List: ' + str(len(moving_average([81,82,76],3))), 'Expected Length: 1')"
   ]
  },
  {
   "cell_type": "markdown",
   "metadata": {
    "id": "SN5hbWM59Ve_"
   },
   "source": [
    "### Other Examples:"
   ]
  },
  {
   "cell_type": "code",
   "execution_count": 18,
   "metadata": {
    "id": "QUlq4Qxa9VfA"
   },
   "outputs": [],
   "source": [
    "student_1 = range(17)"
   ]
  },
  {
   "cell_type": "code",
   "execution_count": 19,
   "metadata": {
    "id": "iNMtJydP9VfA"
   },
   "outputs": [],
   "source": [
    "student_2 = [75,83,999,95,92,999]"
   ]
  },
  {
   "cell_type": "code",
   "execution_count": 20,
   "metadata": {
    "id": "cJdpAIz49VfB"
   },
   "outputs": [],
   "source": [
    "student_3 = [77,999,999,999,68,60,70,999,92]"
   ]
  },
  {
   "cell_type": "code",
   "execution_count": 21,
   "metadata": {
    "id": "TQekdAqV9VfB"
   },
   "outputs": [],
   "source": [
    "student_4 = [81,72,93]"
   ]
  },
  {
   "cell_type": "code",
   "execution_count": 22,
   "metadata": {
    "id": "9y0XuLyh9VfC"
   },
   "outputs": [],
   "source": [
    "student_5 = [999, 999, 999, 62]"
   ]
  },
  {
   "cell_type": "code",
   "execution_count": 23,
   "metadata": {
    "id": "ai2zsY7X9VfD"
   },
   "outputs": [],
   "source": [
    "student_6 = []"
   ]
  },
  {
   "cell_type": "code",
   "execution_count": 24,
   "metadata": {
    "id": "0i-LsPMk9VfE"
   },
   "outputs": [
    {
     "name": "stdout",
     "output_type": "stream",
     "text": [
      "[3.5, 4.5, 5.5, 6.5, 7.5, 8.5, 9.5, 10.5, 11.5, 12.5]\n"
     ]
    }
   ],
   "source": [
    "print(moving_average(student_1, 8))"
   ]
  },
  {
   "cell_type": "code",
   "execution_count": 25,
   "metadata": {
    "id": "ulr2mV3z9VfE"
   },
   "outputs": [
    {
     "name": "stdout",
     "output_type": "stream",
     "text": [
      "[79.0, 83.0, 95.0, 93.5, 92.0]\n",
      "[79.0, 89.0, 93.5, 93.5]\n"
     ]
    }
   ],
   "source": [
    "print(moving_average(student_2, 2))\n",
    "print(moving_average(student_2, 3))"
   ]
  },
  {
   "cell_type": "code",
   "execution_count": 26,
   "metadata": {
    "id": "R1plsoR39VfE"
   },
   "outputs": [
    {
     "name": "stdout",
     "output_type": "stream",
     "text": [
      "[77.0, 999, 999, 68.0, 64.0, 65.0, 70.0, 92.0]\n",
      "[77.0, 999, 68.0, 64.0, 66.0, 65.0, 81.0]\n",
      "[77.0, 68.0, 64.0, 66.0, 66.0, 74.0]\n"
     ]
    }
   ],
   "source": [
    "print(moving_average(student_3, 2))\n",
    "print(moving_average(student_3, 3))\n",
    "print(moving_average(student_3, 4))"
   ]
  },
  {
   "cell_type": "code",
   "execution_count": 27,
   "metadata": {
    "id": "mmipCeK69VfF",
    "scrolled": true
   },
   "outputs": [
    {
     "name": "stdout",
     "output_type": "stream",
     "text": [
      "[81.0, 72.0, 93.0]\n",
      "[76.5, 82.5]\n",
      "[82.0]\n",
      "[]\n"
     ]
    }
   ],
   "source": [
    "print(moving_average(student_4, 1))\n",
    "print(moving_average(student_4, 2))\n",
    "print(moving_average(student_4, 3))\n",
    "print(moving_average(student_4, 4))"
   ]
  },
  {
   "cell_type": "code",
   "execution_count": 28,
   "metadata": {
    "id": "VdKFZJ249VfF",
    "scrolled": false
   },
   "outputs": [
    {
     "name": "stdout",
     "output_type": "stream",
     "text": [
      "[999, 999, 999, 62.0]\n",
      "[999, 999, 62.0]\n",
      "[999, 62.0]\n",
      "[62.0]\n"
     ]
    }
   ],
   "source": [
    "print(moving_average(student_5, 1))\n",
    "print(moving_average(student_5, 2))\n",
    "print(moving_average(student_5, 3))\n",
    "print(moving_average(student_5, 4))"
   ]
  },
  {
   "cell_type": "code",
   "execution_count": 29,
   "metadata": {
    "id": "xnSCyB4W9VfG",
    "scrolled": true
   },
   "outputs": [
    {
     "name": "stdout",
     "output_type": "stream",
     "text": [
      "[]\n",
      "[]\n"
     ]
    }
   ],
   "source": [
    "print(moving_average(student_6, 1))\n",
    "print(moving_average(student_6, 7))"
   ]
  },
  {
   "cell_type": "code",
   "execution_count": null,
   "metadata": {},
   "outputs": [],
   "source": []
  },
  {
   "cell_type": "code",
   "execution_count": null,
   "metadata": {},
   "outputs": [],
   "source": []
  },
  {
   "cell_type": "code",
   "execution_count": null,
   "metadata": {},
   "outputs": [],
   "source": []
  }
 ],
 "metadata": {
  "anaconda-cloud": {},
  "colab": {
   "provenance": []
  },
  "kernelspec": {
   "display_name": "Python 3 (ipykernel)",
   "language": "python",
   "name": "python3"
  },
  "language_info": {
   "codemirror_mode": {
    "name": "ipython",
    "version": 3
   },
   "file_extension": ".py",
   "mimetype": "text/x-python",
   "name": "python",
   "nbconvert_exporter": "python",
   "pygments_lexer": "ipython3",
   "version": "3.11.4"
  }
 },
 "nbformat": 4,
 "nbformat_minor": 1
}
